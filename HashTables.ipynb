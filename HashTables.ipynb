{
  "nbformat": 4,
  "nbformat_minor": 0,
  "metadata": {
    "colab": {
      "provenance": [],
      "authorship_tag": "ABX9TyMO6n23yAHO8HJyoPYfujY7",
      "include_colab_link": true
    },
    "kernelspec": {
      "name": "python3",
      "display_name": "Python 3"
    },
    "language_info": {
      "name": "python"
    }
  },
  "cells": [
    {
      "cell_type": "markdown",
      "metadata": {
        "id": "view-in-github",
        "colab_type": "text"
      },
      "source": [
        "<a href=\"https://colab.research.google.com/github/SayantikaFSU/LeetCodes/blob/main/HashTables.ipynb\" target=\"_parent\"><img src=\"https://colab.research.google.com/assets/colab-badge.svg\" alt=\"Open In Colab\"/></a>"
      ]
    },
    {
      "cell_type": "markdown",
      "source": [
        "Problem 1 : Write a program that takes as input a set of words and returns groups of anagrams for those words. Each group must contain atleast two words.\n",
        "***************************************\n",
        "\n",
        "eg Input = [\"debitcard\",\"elvis\",\"silent\",\"badcredit\",\"lives\",\"freedom\",\"listen\",\"levis\",\"money\"]\n",
        "\n",
        "Output =3 groups of anagrams [debitcard, badcredit],[elvis,lives,levis],[silent,listen]"
      ],
      "metadata": {
        "id": "w1mrNGF9LMd1"
      }
    },
    {
      "cell_type": "code",
      "source": [
        "#function to create the keys of the hash table\n",
        "def sorted_string(s:str)->str:\n",
        "    return \"\".join(sorted(s))\n",
        "\n",
        "#Create a hash table with sorted string as the key and the words as values:\n",
        "def anagram_hash_table(input_list:list)->dict:\n",
        "    hash_table = {}\n",
        "    for item in input_list:\n",
        "        key = sorted_string(item)\n",
        "        if key in hash_table:\n",
        "            hash_table[key].append(item) # adding value when key exists\n",
        "        else:\n",
        "            hash_table[key] = [item] # adding value when key doesnot exists\n",
        "\n",
        "    return hash_table\n",
        "\n",
        "# required function:\n",
        "def group_anagrams(input_list:list)->int:\n",
        "    hash_table = anagram_hash_table(input_list)\n",
        "    k=0\n",
        "    for key,value in hash_table.items():\n",
        "        if len(value)>1:\n",
        "            print(\"Group\",k+1,\":\")\n",
        "            print(value)\n",
        "            k+=1\n",
        "        else:\n",
        "          print('No group',value)\n",
        "    return k\n",
        "\n",
        "input_list = [\"debitcard\",\"elvis\",\"silent\",\"badcredit\",\"lives\",\"freedom\",\"listen\",\"levis\",\"money\"]\n",
        "print(\"Anagram List\",anagram_hash_table(input_list))\n",
        "print(\"No. of Groups\",group_anagrams(input_list))\n"
      ],
      "metadata": {
        "colab": {
          "base_uri": "https://localhost:8080/"
        },
        "id": "GT14_SuyS2YS",
        "outputId": "1032f302-f1e2-45d7-c3aa-d471c7d7e74f"
      },
      "execution_count": 17,
      "outputs": [
        {
          "output_type": "stream",
          "name": "stdout",
          "text": [
            "Anagram List {'abcddeirt': ['debitcard', 'badcredit'], 'eilsv': ['elvis', 'lives', 'levis'], 'eilnst': ['silent', 'listen'], 'deefmor': ['freedom'], 'emnoy': ['money']}\n",
            "Group 1 :\n",
            "['debitcard', 'badcredit']\n",
            "Group 2 :\n",
            "['elvis', 'lives', 'levis']\n",
            "Group 3 :\n",
            "['silent', 'listen']\n",
            "No group ['freedom']\n",
            "No group ['money']\n",
            "No. of Groups 3\n"
          ]
        }
      ]
    },
    {
      "cell_type": "markdown",
      "source": [
        "Problem 2: Test for pallindromic permutations\n",
        "************************************************\n",
        "Pallindrome : a text that reads same forward and backward\n",
        "\n"
      ],
      "metadata": {
        "id": "gFkr4fiVVOWr"
      }
    },
    {
      "cell_type": "markdown",
      "source": [
        "* Heap's Algorithm for permuation: Recursive Format:\n",
        "*****\n"
      ],
      "metadata": {
        "id": "RrgJZ_suaAPh"
      }
    },
    {
      "cell_type": "code",
      "source": [
        "# find permutations of a string duplicates allowed\n",
        "def to_String(s:list)->str:\n",
        "    return \"\".join(s)\n",
        "L=[]\n",
        "def permute(s:str,l:int,r:int):\n",
        "    if l==r:\n",
        "        v=to_String(s)\n",
        "        #print(v)\n",
        "        L.append(v)\n",
        "\n",
        "    else:\n",
        "        for i in range(l,r+1):\n",
        "            s[l],s[i]=s[i],s[l] # swap\n",
        "            permute(s,l+1,r)\n",
        "            s[l],s[i]=s[i],s[l] # reverese swap\n",
        "\n",
        "s=\"ABCD\"\n",
        "permute(list(s),0,len(s)-1)\n",
        "print(L)\n",
        "\n",
        "\n",
        ""
      ],
      "metadata": {
        "colab": {
          "base_uri": "https://localhost:8080/"
        },
        "id": "w5Y33XpgXzGI",
        "outputId": "e38b9f63-77e8-4718-93d1-835706eb9b24"
      },
      "execution_count": 2,
      "outputs": [
        {
          "output_type": "stream",
          "name": "stdout",
          "text": [
            "['ABCD', 'ABDC', 'ACBD', 'ACDB', 'ADCB', 'ADBC', 'BACD', 'BADC', 'BCAD', 'BCDA', 'BDCA', 'BDAC', 'CBAD', 'CBDA', 'CABD', 'CADB', 'CDAB', 'CDBA', 'DBCA', 'DBAC', 'DCBA', 'DCAB', 'DACB', 'DABC']\n"
          ]
        }
      ]
    },
    {
      "cell_type": "markdown",
      "source": [
        "* using Hash Table:"
      ],
      "metadata": {
        "id": "_BFD5D6CpUno"
      }
    },
    {
      "cell_type": "code",
      "source": [
        "# Creeate a hash table with item as the key and all the permutations as the value\n",
        "input_list=[\"ABCD\",\"12345\",'madam']\n",
        "hash_table={}\n",
        "for item in input_list:\n",
        "    #print(item)\n",
        "    L=[]\n",
        "    s=list(item)\n",
        "    permute(s,0,len(s)-1) # find all permutation of item\n",
        "    hash_table[item]=L\n",
        "print(hash_table)\n",
        "\n",
        "for key,value in hash_table.items():\n",
        "    s1=key\n",
        "    l1=value\n",
        "    k=0 # counts how many matches the exact word\n",
        "    for item in l1:\n",
        "        if list(s1)==list(item):\n",
        "            #print(\"True\")\n",
        "            k+=1\n",
        "    if k>1: # because first item is always the word so always a match\n",
        "        print(\"%s is pallindrome\"%s1)\n",
        "    else:\n",
        "        print(\"%s is not pallindrome\"%s1)\n",
        "\n",
        ""
      ],
      "metadata": {
        "colab": {
          "base_uri": "https://localhost:8080/"
        },
        "id": "pLRlzJZOizfQ",
        "outputId": "394d118e-fe40-4e59-c99b-03942558791d"
      },
      "execution_count": 3,
      "outputs": [
        {
          "output_type": "stream",
          "name": "stdout",
          "text": [
            "{'ABCD': ['ABCD', 'ABDC', 'ACBD', 'ACDB', 'ADCB', 'ADBC', 'BACD', 'BADC', 'BCAD', 'BCDA', 'BDCA', 'BDAC', 'CBAD', 'CBDA', 'CABD', 'CADB', 'CDAB', 'CDBA', 'DBCA', 'DBAC', 'DCBA', 'DCAB', 'DACB', 'DABC'], '12345': ['12345', '12354', '12435', '12453', '12543', '12534', '13245', '13254', '13425', '13452', '13542', '13524', '14325', '14352', '14235', '14253', '14523', '14532', '15342', '15324', '15432', '15423', '15243', '15234', '21345', '21354', '21435', '21453', '21543', '21534', '23145', '23154', '23415', '23451', '23541', '23514', '24315', '24351', '24135', '24153', '24513', '24531', '25341', '25314', '25431', '25413', '25143', '25134', '32145', '32154', '32415', '32451', '32541', '32514', '31245', '31254', '31425', '31452', '31542', '31524', '34125', '34152', '34215', '34251', '34521', '34512', '35142', '35124', '35412', '35421', '35241', '35214', '42315', '42351', '42135', '42153', '42513', '42531', '43215', '43251', '43125', '43152', '43512', '43521', '41325', '41352', '41235', '41253', '41523', '41532', '45312', '45321', '45132', '45123', '45213', '45231', '52341', '52314', '52431', '52413', '52143', '52134', '53241', '53214', '53421', '53412', '53142', '53124', '54321', '54312', '54231', '54213', '54123', '54132', '51342', '51324', '51432', '51423', '51243', '51234'], 'madam': ['madam', 'madma', 'maadm', 'maamd', 'mamad', 'mamda', 'mdaam', 'mdama', 'mdaam', 'mdama', 'mdmaa', 'mdmaa', 'madam', 'madma', 'maadm', 'maamd', 'mamad', 'mamda', 'mmdaa', 'mmdaa', 'mmada', 'mmaad', 'mmaad', 'mmada', 'amdam', 'amdma', 'amadm', 'amamd', 'ammad', 'ammda', 'admam', 'admma', 'adamm', 'adamm', 'admam', 'admma', 'aadmm', 'aadmm', 'aamdm', 'aammd', 'aammd', 'aamdm', 'amdam', 'amdma', 'amadm', 'amamd', 'ammad', 'ammda', 'damam', 'damma', 'daamm', 'daamm', 'damam', 'damma', 'dmaam', 'dmama', 'dmaam', 'dmama', 'dmmaa', 'dmmaa', 'damam', 'damma', 'daamm', 'daamm', 'damam', 'damma', 'dmmaa', 'dmmaa', 'dmama', 'dmaam', 'dmaam', 'dmama', 'aadmm', 'aadmm', 'aamdm', 'aammd', 'aammd', 'aamdm', 'adamm', 'adamm', 'admam', 'admma', 'admma', 'admam', 'amdam', 'amdma', 'amadm', 'amamd', 'ammad', 'ammda', 'amdma', 'amdam', 'ammda', 'ammad', 'amamd', 'amadm', 'madam', 'madma', 'maadm', 'maamd', 'mamad', 'mamda', 'mdaam', 'mdama', 'mdaam', 'mdama', 'mdmaa', 'mdmaa', 'madam', 'madma', 'maadm', 'maamd', 'mamad', 'mamda', 'mmdaa', 'mmdaa', 'mmada', 'mmaad', 'mmaad', 'mmada']}\n",
            "ABCD is not pallindrome\n",
            "12345 is not pallindrome\n",
            "madam is pallindrome\n"
          ]
        }
      ]
    },
    {
      "cell_type": "markdown",
      "source": [
        "* Without using Hash Table:"
      ],
      "metadata": {
        "id": "VqnIrwrfpLox"
      }
    },
    {
      "cell_type": "code",
      "source": [
        "# reverse a string and check for equality\n",
        "def is_string_pallindrome(s:str)->bool:\n",
        "    s1=s[::-1]\n",
        "    if s==s1:\n",
        "        return True\n",
        "    else:\n",
        "        return False\n",
        "\n",
        "s=\"madam\"\n",
        "print(is_string_pallindrome(s))\n"
      ],
      "metadata": {
        "colab": {
          "base_uri": "https://localhost:8080/"
        },
        "id": "1h30VpVDV4j6",
        "outputId": "f50fe714-ab18-444a-8945-18b82acd5365"
      },
      "execution_count": 60,
      "outputs": [
        {
          "output_type": "stream",
          "name": "stdout",
          "text": [
            "True\n"
          ]
        }
      ]
    },
    {
      "cell_type": "code",
      "source": [
        "for item in input_list:\n",
        "    value=is_string_pallindrome(item)\n",
        "    print(\"is_string_pallindrome(%s)--%s\"%(item,value))"
      ],
      "metadata": {
        "colab": {
          "base_uri": "https://localhost:8080/"
        },
        "id": "GcXRXqvJjotH",
        "outputId": "3728c67b-88ea-464a-9d60-da61b6822cad"
      },
      "execution_count": 63,
      "outputs": [
        {
          "output_type": "stream",
          "name": "stdout",
          "text": [
            "is_string_pallindrome(ABCD)--False\n",
            "is_string_pallindrome(12345)--False\n",
            "is_string_pallindrome(madam)--True\n"
          ]
        }
      ]
    },
    {
      "cell_type": "markdown",
      "source": [
        "Problem 3: Find the smallest subarray covering all the values\n",
        "**********************************************************\n",
        "\n",
        "Write a program which takes an array of strings and a set of strings and return the indices of the starting and ending index of the shortest subarray of the given array that 'covers'the set.\n",
        "\n",
        "* eg\n",
        "\n",
        "Input = [ apple, banana, apple, apple,dog, cat, apple, dog, banana, apple, cat, dog]\n",
        "\n",
        "Set : [banana, cat]\n",
        "\n",
        "Output : indices 8, 10 [banana, apple, cat]\n",
        "\n"
      ],
      "metadata": {
        "id": "bFg6HDD-dllw"
      }
    },
    {
      "cell_type": "code",
      "source": [
        "input_list = [ 'apple', 'banana', 'apple', 'apple','dog', 'cat', 'apple', 'dog', 'banana', 'apple', 'cat', 'dog']\n",
        "set_list=['banana', 'cat']\n",
        "\n",
        "\n",
        "def find_shortest_subarray(input_list:list,set_list:list)->list:\n",
        "    hash_table={}\n",
        "    k=0\n",
        "    for i in range(0, len(input_list)):\n",
        "        for j in range(i, len(input_list)):\n",
        "            if input_list[i]== set_list[0] and input_list[j]==set_list[1]:\n",
        "                hash_table[k]=[i,j]\n",
        "                k+=1\n",
        "    l=[]\n",
        "    for key,value in hash_table.items():\n",
        "        l1=value\n",
        "        l.append(l1[1]-l1[0])\n",
        "\n",
        "    for key,value in hash_table.items():\n",
        "        if value[1]-value[0]==min(l):\n",
        "            return value\n",
        "\n",
        "result_list=find_shortest_subarray(input_list,set_list)\n",
        "print(result_list)\n",
        "print(input_list[result_list[0]:result_list[1]+1])\n"
      ],
      "metadata": {
        "colab": {
          "base_uri": "https://localhost:8080/"
        },
        "id": "__IjRtazjqzP",
        "outputId": "dcc8b91e-6a17-45ea-8e37-3b33dff75a05"
      },
      "execution_count": 21,
      "outputs": [
        {
          "output_type": "stream",
          "name": "stdout",
          "text": [
            "[8, 10]\n",
            "['banana', 'apple', 'cat']\n"
          ]
        }
      ]
    },
    {
      "cell_type": "markdown",
      "source": [
        "Problem 4: Find the longest subarray with distinct entries\n",
        "***********************************************************************************"
      ],
      "metadata": {
        "id": "w7KaCYg_jz6G"
      }
    },
    {
      "cell_type": "code",
      "source": [
        "input_list= [ 'apple', 'banana', 'apple', 'apple','dog', 'cat', 'apple', 'dog', 'banana', 'apple', 'cat', 'dog']\n",
        "\n",
        "hash_table={}\n",
        "k=0\n",
        "n=len(input_list)\n",
        "\n",
        "i=0\n",
        "j=1\n",
        "while i<n:\n",
        "    while j<n:\n",
        "      if input_list[i]!=input_list[j]:\n",
        "        hash_table[k]=[i,j+1]\n",
        "        j+=1\n",
        "        k+=1\n",
        "        print(input_list[i:j])\n",
        "      else:\n",
        "        break\n",
        "    i=j\n",
        "    j=i+1\n",
        "\n",
        "print(hash_table)\n",
        "\n",
        "l=[]\n",
        "for key,value in hash_table.items():\n",
        "    l1=value\n",
        "    l.append(l1[1]-l1[0])\n",
        "print(l)\n",
        "\n",
        "print('\\n\\n\\nthe list are as follows-->')\n",
        "for key,value in hash_table.items():\n",
        "    if value[1]-value[0]==max(l):\n",
        "        print('indices',value)\n",
        "        print(input_list[value[0]:value[1]])\n"
      ],
      "metadata": {
        "colab": {
          "base_uri": "https://localhost:8080/"
        },
        "id": "FxHt_3xwkMBw",
        "outputId": "88c91cfb-ae68-428c-d8b0-c8ba87bbe6f0"
      },
      "execution_count": 19,
      "outputs": [
        {
          "output_type": "stream",
          "name": "stdout",
          "text": [
            "['apple', 'banana']\n",
            "['apple', 'dog']\n",
            "['apple', 'dog', 'cat']\n",
            "['apple', 'dog']\n",
            "['apple', 'dog', 'banana']\n",
            "['apple', 'cat']\n",
            "['apple', 'cat', 'dog']\n",
            "{0: [0, 2], 1: [3, 5], 2: [3, 6], 3: [6, 8], 4: [6, 9], 5: [9, 11], 6: [9, 12]}\n",
            "[2, 2, 3, 2, 3, 2, 3]\n",
            "\n",
            "\n",
            "\n",
            "the list are as follows-->\n",
            "indices [3, 6]\n",
            "['apple', 'dog', 'cat']\n",
            "indices [6, 9]\n",
            "['apple', 'dog', 'banana']\n",
            "indices [9, 12]\n",
            "['apple', 'cat', 'dog']\n"
          ]
        }
      ]
    },
    {
      "cell_type": "markdown",
      "source": [
        "Problem 5: Collatz Conjecture\n",
        "***************************************************************\n",
        "Take any natural number. If it is odd, triple it and add one ; if it is even halve it. Repeat the process indefinitely. No matter what number you begin with you will eventually arrive at 1.\n"
      ],
      "metadata": {
        "id": "0cbY22-rikop"
      }
    },
    {
      "cell_type": "code",
      "source": [
        "def collatz_(n:int)->list:\n",
        "    l=[n]\n",
        "    while n!=1:\n",
        "        if n%2==0: # n=even\n",
        "            m=n/2\n",
        "        else: # n=odd\n",
        "            m= (3*n)+1\n",
        "        n=m\n",
        "        l.append(n)\n",
        "\n",
        "    return l\n",
        "\n",
        "n=11\n",
        "l1=collatz_(n)\n",
        "print(l1)"
      ],
      "metadata": {
        "colab": {
          "base_uri": "https://localhost:8080/"
        },
        "id": "MgZrGTqGjDGa",
        "outputId": "b3810a1b-fc9f-469a-af9b-c12c5e5c8a8a"
      },
      "execution_count": 55,
      "outputs": [
        {
          "output_type": "stream",
          "name": "stdout",
          "text": [
            "[11, 34, 17.0, 52.0, 26.0, 13.0, 40.0, 20.0, 10.0, 5.0, 16.0, 8.0, 4.0, 2.0, 1.0]\n"
          ]
        }
      ]
    },
    {
      "cell_type": "code",
      "source": [
        "input_list=[1,2,3,4,5,6,7,8,9,10,11,12,13,14,15,16,17,18,19,20]\n",
        "hash_table={}\n",
        "length=[]\n",
        "for item in input_list:\n",
        "    l1=collatz_(item)\n",
        "    hash_table[item]=l1\n",
        "    length.append(len(l1))\n",
        "print(hash_table)\n",
        "print(max(length))\n",
        "\n",
        "print('\\n \\n the number which produces longest collatz list-->')\n",
        "for key,value in hash_table.items():\n",
        "    if len(value)==max(length):\n",
        "        print(key,value)\n"
      ],
      "metadata": {
        "colab": {
          "base_uri": "https://localhost:8080/"
        },
        "id": "Jb9aww8bjqrJ",
        "outputId": "c4b281f4-83b3-444a-d2ed-9d0b3b23b13e"
      },
      "execution_count": 62,
      "outputs": [
        {
          "output_type": "stream",
          "name": "stdout",
          "text": [
            "{1: [1], 2: [2, 1.0], 3: [3, 10, 5.0, 16.0, 8.0, 4.0, 2.0, 1.0], 4: [4, 2.0, 1.0], 5: [5, 16, 8.0, 4.0, 2.0, 1.0], 6: [6, 3.0, 10.0, 5.0, 16.0, 8.0, 4.0, 2.0, 1.0], 7: [7, 22, 11.0, 34.0, 17.0, 52.0, 26.0, 13.0, 40.0, 20.0, 10.0, 5.0, 16.0, 8.0, 4.0, 2.0, 1.0], 8: [8, 4.0, 2.0, 1.0], 9: [9, 28, 14.0, 7.0, 22.0, 11.0, 34.0, 17.0, 52.0, 26.0, 13.0, 40.0, 20.0, 10.0, 5.0, 16.0, 8.0, 4.0, 2.0, 1.0], 10: [10, 5.0, 16.0, 8.0, 4.0, 2.0, 1.0], 11: [11, 34, 17.0, 52.0, 26.0, 13.0, 40.0, 20.0, 10.0, 5.0, 16.0, 8.0, 4.0, 2.0, 1.0], 12: [12, 6.0, 3.0, 10.0, 5.0, 16.0, 8.0, 4.0, 2.0, 1.0], 13: [13, 40, 20.0, 10.0, 5.0, 16.0, 8.0, 4.0, 2.0, 1.0], 14: [14, 7.0, 22.0, 11.0, 34.0, 17.0, 52.0, 26.0, 13.0, 40.0, 20.0, 10.0, 5.0, 16.0, 8.0, 4.0, 2.0, 1.0], 15: [15, 46, 23.0, 70.0, 35.0, 106.0, 53.0, 160.0, 80.0, 40.0, 20.0, 10.0, 5.0, 16.0, 8.0, 4.0, 2.0, 1.0], 16: [16, 8.0, 4.0, 2.0, 1.0], 17: [17, 52, 26.0, 13.0, 40.0, 20.0, 10.0, 5.0, 16.0, 8.0, 4.0, 2.0, 1.0], 18: [18, 9.0, 28.0, 14.0, 7.0, 22.0, 11.0, 34.0, 17.0, 52.0, 26.0, 13.0, 40.0, 20.0, 10.0, 5.0, 16.0, 8.0, 4.0, 2.0, 1.0], 19: [19, 58, 29.0, 88.0, 44.0, 22.0, 11.0, 34.0, 17.0, 52.0, 26.0, 13.0, 40.0, 20.0, 10.0, 5.0, 16.0, 8.0, 4.0, 2.0, 1.0], 20: [20, 10.0, 5.0, 16.0, 8.0, 4.0, 2.0, 1.0]}\n",
            "21\n",
            "\n",
            " \n",
            " the number which produces longest collatz list-->\n",
            "18 [18, 9.0, 28.0, 14.0, 7.0, 22.0, 11.0, 34.0, 17.0, 52.0, 26.0, 13.0, 40.0, 20.0, 10.0, 5.0, 16.0, 8.0, 4.0, 2.0, 1.0]\n",
            "19 [19, 58, 29.0, 88.0, 44.0, 22.0, 11.0, 34.0, 17.0, 52.0, 26.0, 13.0, 40.0, 20.0, 10.0, 5.0, 16.0, 8.0, 4.0, 2.0, 1.0]\n"
          ]
        }
      ]
    },
    {
      "cell_type": "markdown",
      "source": [
        "EXtra:\n",
        "**************"
      ],
      "metadata": {
        "id": "uCzCUSy1dE-Z"
      }
    },
    {
      "cell_type": "code",
      "source": [
        "# Add new key and value to hash_table\n",
        "hash_table['new_key']=['q','w','e','r','t']\n",
        "hash_table['new key2']=[]\n",
        "hash_table.keys()\n",
        "hash_table.values()\n"
      ],
      "metadata": {
        "colab": {
          "base_uri": "https://localhost:8080/"
        },
        "id": "1UEwnbawokM0",
        "outputId": "8f4b739b-aced-426a-a5c8-1ef6b6c5531b"
      },
      "execution_count": 63,
      "outputs": [
        {
          "output_type": "execute_result",
          "data": {
            "text/plain": [
              "dict_values([[1], [2, 1.0], [3, 10, 5.0, 16.0, 8.0, 4.0, 2.0, 1.0], [4, 2.0, 1.0], [5, 16, 8.0, 4.0, 2.0, 1.0], [6, 3.0, 10.0, 5.0, 16.0, 8.0, 4.0, 2.0, 1.0], [7, 22, 11.0, 34.0, 17.0, 52.0, 26.0, 13.0, 40.0, 20.0, 10.0, 5.0, 16.0, 8.0, 4.0, 2.0, 1.0], [8, 4.0, 2.0, 1.0], [9, 28, 14.0, 7.0, 22.0, 11.0, 34.0, 17.0, 52.0, 26.0, 13.0, 40.0, 20.0, 10.0, 5.0, 16.0, 8.0, 4.0, 2.0, 1.0], [10, 5.0, 16.0, 8.0, 4.0, 2.0, 1.0], [11, 34, 17.0, 52.0, 26.0, 13.0, 40.0, 20.0, 10.0, 5.0, 16.0, 8.0, 4.0, 2.0, 1.0], [12, 6.0, 3.0, 10.0, 5.0, 16.0, 8.0, 4.0, 2.0, 1.0], [13, 40, 20.0, 10.0, 5.0, 16.0, 8.0, 4.0, 2.0, 1.0], [14, 7.0, 22.0, 11.0, 34.0, 17.0, 52.0, 26.0, 13.0, 40.0, 20.0, 10.0, 5.0, 16.0, 8.0, 4.0, 2.0, 1.0], [15, 46, 23.0, 70.0, 35.0, 106.0, 53.0, 160.0, 80.0, 40.0, 20.0, 10.0, 5.0, 16.0, 8.0, 4.0, 2.0, 1.0], [16, 8.0, 4.0, 2.0, 1.0], [17, 52, 26.0, 13.0, 40.0, 20.0, 10.0, 5.0, 16.0, 8.0, 4.0, 2.0, 1.0], [18, 9.0, 28.0, 14.0, 7.0, 22.0, 11.0, 34.0, 17.0, 52.0, 26.0, 13.0, 40.0, 20.0, 10.0, 5.0, 16.0, 8.0, 4.0, 2.0, 1.0], [19, 58, 29.0, 88.0, 44.0, 22.0, 11.0, 34.0, 17.0, 52.0, 26.0, 13.0, 40.0, 20.0, 10.0, 5.0, 16.0, 8.0, 4.0, 2.0, 1.0], [20, 10.0, 5.0, 16.0, 8.0, 4.0, 2.0, 1.0], ['q', 'w', 'e', 'r', 't'], []])"
            ]
          },
          "metadata": {},
          "execution_count": 63
        }
      ]
    },
    {
      "cell_type": "code",
      "source": [],
      "metadata": {
        "id": "TVfIKVttcqsP"
      },
      "execution_count": null,
      "outputs": []
    }
  ]
}