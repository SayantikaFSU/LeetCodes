{
  "nbformat": 4,
  "nbformat_minor": 0,
  "metadata": {
    "colab": {
      "provenance": [],
      "authorship_tag": "ABX9TyMlGmGl0KZ6AkBzIQX5yMMK",
      "include_colab_link": true
    },
    "kernelspec": {
      "name": "python3",
      "display_name": "Python 3"
    },
    "language_info": {
      "name": "python"
    }
  },
  "cells": [
    {
      "cell_type": "markdown",
      "metadata": {
        "id": "view-in-github",
        "colab_type": "text"
      },
      "source": [
        "<a href=\"https://colab.research.google.com/github/SayantikaFSU/LeetCodes/blob/main/Object_Oriented_Programming.ipynb\" target=\"_parent\"><img src=\"https://colab.research.google.com/assets/colab-badge.svg\" alt=\"Open In Colab\"/></a>"
      ]
    },
    {
      "cell_type": "markdown",
      "source": [
        "## Definition:\n",
        "* A hash table is a data structure that allows for quick insertion, deletion, and retrieval of data. It works by using a hash function to map a key to an index in an array.\n",
        "\n",
        "* In python it is just a dictonary and class\n",
        "\n"
      ],
      "metadata": {
        "id": "chPpzZVBUAsi"
      }
    },
    {
      "cell_type": "markdown",
      "source": [
        "## Object Oriented Programming : CLASS"
      ],
      "metadata": {
        "id": "_L4UMoeItk1E"
      }
    },
    {
      "cell_type": "markdown",
      "source": [
        "Class :\n",
        "\n",
        "* it is a python object\n",
        "* used to deal with creating instances over and over again\n"
      ],
      "metadata": {
        "id": "s39ozZX_uBf8"
      }
    },
    {
      "cell_type": "code",
      "execution_count": 2,
      "metadata": {
        "colab": {
          "base_uri": "https://localhost:8080/"
        },
        "id": "sOQwytSwT9ht",
        "outputId": "e866c84a-e0be-466f-9d55-c9dc704bf926"
      },
      "outputs": [
        {
          "output_type": "stream",
          "name": "stdout",
          "text": [
            "<__main__.Employee object at 0x7b3051041480>\n",
            "<__main__.Employee object at 0x7b3051041cf0>\n"
          ]
        }
      ],
      "source": [
        "class Employee:\n",
        "    pass\n",
        "\n",
        "emp_1 = Employee()\n",
        "emp_2 = Employee()\n",
        "\n",
        "# just creates two instances\n",
        "print(emp_1)\n",
        "print(emp_2)"
      ]
    },
    {
      "cell_type": "markdown",
      "source": [
        "Instances, Methods, Class-Methods and Static Methods\n",
        "****************************************"
      ],
      "metadata": {
        "id": "8UhetnBLxMsX"
      }
    },
    {
      "cell_type": "code",
      "source": [
        "class Employee:\n",
        "    # class variables\n",
        "    no_of_emps = 0\n",
        "    raise_amount = 1.04\n",
        "\n",
        "    # Methods : functions applied to all the instances, passes instances\n",
        "    def __init__(self, first, last, pay):\n",
        "        self.first = first\n",
        "        self.last = last\n",
        "        self.pay = pay\n",
        "        self.email = first + '.' + last + '@company.com'\n",
        "\n",
        "    def fullname(self):\n",
        "        return '{} {}'.format(self.first, self.last)\n",
        "\n",
        "    def apply_raise(self):\n",
        "        self.pay = int(self.pay * self.raise_amount)\n",
        "\n",
        "    # Class method: functions applied to classes , changes the class variable\n",
        "    @classmethod\n",
        "    def set_raise_amt(cls, amount): #passes the cls\n",
        "        cls.raise_amount = amount\n",
        "\n",
        "    # Static Method :  Regular function , doesnot take cls or self\n",
        "    @staticmethod\n",
        "    def is_workday(day): # whether a day is weekday or not\n",
        "        if day.weekday() == 5 or day.weekday() == 6:\n",
        "            return False\n",
        "        return True\n",
        "\n",
        "\n",
        "# instances:\n",
        "emp_1 = Employee('Corey', 'Schafer', 50000)\n",
        "emp_2 = Employee('Test', 'User', 60000)\n",
        "\n",
        "print(emp_1.email)\n",
        "print(emp_2.email)\n",
        "\n",
        "# Apply the method:\n",
        "print(emp_1.fullname())\n",
        "print(emp_2.fullname())\n",
        "\n",
        "#print(Employee.fullname(emp_1))\n",
        "#print(Employee.fullname(emp_2))\n",
        "\n",
        "# Apply method using the class variable\n",
        "print(emp_1.pay)\n",
        "emp_1.apply_raise()\n",
        "print(emp_1.pay)\n",
        "\n",
        "# Apply class method:\n",
        "Employee.set_raise_amt(1.05)\n",
        "print(Employee.raise_amount)\n",
        "print(emp_1.raise_amount)\n",
        "print(emp_2.raise_amount)\n",
        "\n",
        "# Apply static method:\n",
        "import datetime\n",
        "my_date = datetime.date(2016, 7, 11)\n",
        "print(Employee.is_workday(my_date))"
      ],
      "metadata": {
        "colab": {
          "base_uri": "https://localhost:8080/"
        },
        "id": "Bu_LpbLjvDkz",
        "outputId": "64d8c5e7-f1c8-4560-9ec4-9ac0ead94c60"
      },
      "execution_count": 70,
      "outputs": [
        {
          "output_type": "stream",
          "name": "stdout",
          "text": [
            "Corey.Schafer@company.com\n",
            "Test.User@company.com\n",
            "Corey Schafer\n",
            "Test User\n",
            "50000\n",
            "52000\n",
            "1.05\n",
            "1.05\n",
            "1.05\n",
            "True\n"
          ]
        }
      ]
    },
    {
      "cell_type": "markdown",
      "source": [
        "Inheritence in Classes:\n",
        "*********************************\n",
        "child class gets all the functionality of the parent class without changing the parent class\n",
        "\n",
        "eg : Class Mangers SUBCLASS Class Employee ( because managers have the same attribute and methods plus some extra functionality)"
      ],
      "metadata": {
        "id": "qaOFWf0QxZdf"
      }
    },
    {
      "cell_type": "code",
      "source": [
        "class Manager(Employee):\n",
        "  pass\n",
        "\n",
        "# instances of Manager : has all attribute of the Employee class\n",
        "mgr_1 = Manager('Sue', 'Smith', 90000)\n",
        "print(mgr_1.email)\n",
        "print(mgr_1.fullname())\n",
        "print(mgr_1.pay)\n",
        "mgr_1.apply_raise()\n",
        "print(mgr_1.pay)\n",
        "\n",
        "\n",
        "##\n",
        "print('\\n \\n ')\n",
        "print(help(Manager))"
      ],
      "metadata": {
        "colab": {
          "base_uri": "https://localhost:8080/"
        },
        "id": "UEAfJUVb0jsF",
        "outputId": "16b36339-a5b0-4b20-c713-4b19730e4b22"
      },
      "execution_count": 23,
      "outputs": [
        {
          "output_type": "stream",
          "name": "stdout",
          "text": [
            "Sue.Smith@company.com\n",
            "Sue Smith\n",
            "90000\n",
            "94500\n",
            "\n",
            " \n",
            " \n",
            "Help on class Manager in module __main__:\n",
            "\n",
            "class Manager(Employee)\n",
            " |  Manager(first, last, pay)\n",
            " |  \n",
            " |  Method resolution order:\n",
            " |      Manager\n",
            " |      Employee\n",
            " |      builtins.object\n",
            " |  \n",
            " |  Methods inherited from Employee:\n",
            " |  \n",
            " |  __init__(self, first, last, pay)\n",
            " |      Initialize self.  See help(type(self)) for accurate signature.\n",
            " |  \n",
            " |  apply_raise(self)\n",
            " |  \n",
            " |  fullname(self)\n",
            " |  \n",
            " |  ----------------------------------------------------------------------\n",
            " |  Class methods inherited from Employee:\n",
            " |  \n",
            " |  set_raise_amt(amount) from builtins.type\n",
            " |      # Class method: functions applied to classes , changes the class variable\n",
            " |  \n",
            " |  ----------------------------------------------------------------------\n",
            " |  Static methods inherited from Employee:\n",
            " |  \n",
            " |  is_workday(day)\n",
            " |      # Static Method :  Regular function , doesnot take cls or self\n",
            " |  \n",
            " |  ----------------------------------------------------------------------\n",
            " |  Data descriptors inherited from Employee:\n",
            " |  \n",
            " |  __dict__\n",
            " |      dictionary for instance variables (if defined)\n",
            " |  \n",
            " |  __weakref__\n",
            " |      list of weak references to the object (if defined)\n",
            " |  \n",
            " |  ----------------------------------------------------------------------\n",
            " |  Data and other attributes inherited from Employee:\n",
            " |  \n",
            " |  no_of_emps = 0\n",
            " |  \n",
            " |  raise_amount = 1.05\n",
            "\n",
            "None\n"
          ]
        }
      ]
    },
    {
      "cell_type": "code",
      "source": [
        "class Manager(Employee):\n",
        "  def __init__(self, firstname, lastname, pay, p_lang):\n",
        "    super().__init__(firstname, lastname, pay) # inherits the firstname, lastname, pay from the Employee Method _init_\n",
        "    self.p_lang = p_lang\n",
        "\n",
        "mgr_1 = Manager('Sue', 'Smith', 90000, 'Python')\n",
        "print(mgr_1.email)\n",
        "print(mgr_1.fullname())\n",
        "print(mgr_1.pay)\n",
        "print(mgr_1.p_lang)\n",
        "\n",
        "class Developer(Employee):\n",
        "  def __init__(self, firstname, lastname, pay, prog_lang):\n",
        "    super().__init__(firstname, lastname, pay) # inherits the firstname, lastname, pay from the Employee Method _init_\n",
        "    self.prog_lang = prog_lang\n",
        "\n",
        "dev_1=Developer('Sukesh','Nath',95000,'Java')\n",
        "print(dev_1.email)\n",
        "print(dev_1.fullname())\n",
        "print(dev_1.pay)\n",
        "print(dev_1.prog_lang)"
      ],
      "metadata": {
        "colab": {
          "base_uri": "https://localhost:8080/"
        },
        "id": "TAmCyNeLzYSv",
        "outputId": "8ebe6ab9-5671-4fc5-a001-aa5a54bc3635"
      },
      "execution_count": 29,
      "outputs": [
        {
          "output_type": "stream",
          "name": "stdout",
          "text": [
            "Sue.Smith@company.com\n",
            "Sue Smith\n",
            "90000\n",
            "Python\n",
            "Sukesh.Nath@company.com\n",
            "Sukesh Nath\n",
            "95000\n",
            "Java\n"
          ]
        }
      ]
    },
    {
      "cell_type": "markdown",
      "source": [
        "Create a class Manager which counts the number of employees the manager handles and add and remove employees from that list if needed:"
      ],
      "metadata": {
        "id": "e8_ceL3L2yRC"
      }
    },
    {
      "cell_type": "code",
      "source": [
        "class manager(Employee):\n",
        "  # mgr = manager(fname, lastname, pay, prog_lang, employee_list_they handle)\n",
        "  def __init__(self, firstname,lastname,pay,p_lang, employee_list=None):\n",
        "          super().__init__(firstname,lastname,pay)\n",
        "          self.p_lang = p_lang\n",
        "          if employee_list is None:\n",
        "            self.employee_list = []\n",
        "          else:\n",
        "            self.employee_list = employee_list\n",
        "\n",
        "  def add_employee(self, new_employee, employee_list):\n",
        "         if new_employee not in self.employee_list:\n",
        "              self.employee_list.append(new_employee.fullname())\n",
        "\n",
        "  def remove_employee(self, new_employee, employee_list):\n",
        "         print(self.employee_list)\n",
        "         print(new_employee.fullname())\n",
        "         emp_name = new_employee.fullname()\n",
        "         if emp_name in self.employee_list:\n",
        "            self.employee_list.remove(emp_name)\n",
        "\n",
        "  def count_employee(self,employee_list):\n",
        "        print(len(self.employee_list))\n",
        "\n",
        "print('Manager details')\n",
        "mgr_1= manager('Test','Manage',900000,'Python',[emp_1.fullname(),emp_2.fullname()])\n",
        "print(mgr_1.employee_list)\n",
        "print(mgr_1.email)\n",
        "print(mgr_1.fullname())\n",
        "print(mgr_1.pay)\n",
        "print(mgr_1.p_lang)\n",
        "\n",
        "mgr_1.apply_raise()\n",
        "print(mgr_1.raise_amount,mgr_1.pay)\n",
        "\n",
        "print('\\n Employee 3 details')\n",
        "\n",
        "emp_3= Employee('Jack','Sen',95000)\n",
        "print(emp_3.email)\n",
        "print(emp_3.fullname())\n",
        "print(emp_3.pay)\n",
        "\n",
        "print('\\n Add employee 3 to manager 1')\n",
        "mgr_1.add_employee(emp_3,mgr_1.employee_list)\n",
        "print(mgr_1.employee_list)\n",
        "mgr_1.count_employee(mgr_1.employee_list)\n",
        "\n",
        "print('\\n Remove employee 1 from manager 1')\n",
        "mgr_1.remove_employee(emp_1,mgr_1.employee_list)\n",
        "print(mgr_1.employee_list)\n",
        "\n",
        "print('\\n Count employees under manager 1')\n",
        "mgr_1.count_employee(mgr_1.employee_list)"
      ],
      "metadata": {
        "colab": {
          "base_uri": "https://localhost:8080/"
        },
        "id": "QVdyPXl23XQk",
        "outputId": "565f60b1-732f-4d18-b94c-317b75823364"
      },
      "execution_count": 55,
      "outputs": [
        {
          "output_type": "stream",
          "name": "stdout",
          "text": [
            "Manager details\n",
            "['Corey Schafer', 'Test User']\n",
            "Test.Manage@company.com\n",
            "Test Manage\n",
            "900000\n",
            "Python\n",
            "1.05 945000\n",
            "\n",
            " Employee 3 details\n",
            "Jack.Sen@company.com\n",
            "Jack Sen\n",
            "95000\n",
            "\n",
            " Add employee 3 to manager 1\n",
            "['Corey Schafer', 'Test User', 'Jack Sen']\n",
            "3\n",
            "\n",
            " Remove employee 1 from manager 1\n",
            "['Corey Schafer', 'Test User', 'Jack Sen']\n",
            "Corey Schafer\n",
            "['Test User', 'Jack Sen']\n",
            "\n",
            " Count employees under manager 1\n",
            "2\n"
          ]
        }
      ]
    },
    {
      "cell_type": "markdown",
      "source": [
        "Getter, Setter, deleter -> PROPERTY DECORATOR\n",
        "*****************************************************"
      ],
      "metadata": {
        "id": "RQ6v0Bz28Prl"
      }
    },
    {
      "cell_type": "code",
      "source": [
        "print(emp_1.first)\n",
        "\n",
        "# change the first name doesnot change the email since the email happens in __init__\n",
        "emp_1.first = 'Jim'\n",
        "print(emp_1.first)\n",
        "print(emp_1.email)\n",
        "print(emp_1.fullname())\n",
        "\n",
        "# to change every instance we use 'PROPERTY DECORATOR':"
      ],
      "metadata": {
        "colab": {
          "base_uri": "https://localhost:8080/"
        },
        "id": "6E2qXFAg4Fvw",
        "outputId": "937e8125-b7b4-45ab-ffed-52ffafa398c7"
      },
      "execution_count": 71,
      "outputs": [
        {
          "output_type": "stream",
          "name": "stdout",
          "text": [
            "Corey\n",
            "Jim\n",
            "Corey.Schafer@company.com\n",
            "Jim Schafer\n"
          ]
        }
      ]
    },
    {
      "cell_type": "code",
      "source": [
        "class Employee:\n",
        "    # class variables\n",
        "    no_of_emps = 0\n",
        "    raise_amount = 1.04\n",
        "\n",
        "    # Methods : functions applied to all the instances, passes instances\n",
        "    def __init__(self, first, last, pay):\n",
        "        self.first = first\n",
        "        self.last = last\n",
        "        self.pay = pay\n",
        "        #self.email = first + '.' + last + '@company.com'\n",
        "\n",
        "    @property\n",
        "    def email(self):\n",
        "        return self.first + '.' + self.last + '@company.com'\n",
        "\n",
        "    def fullname(self):\n",
        "        return '{} {}'.format(self.first, self.last)\n",
        "\n",
        "    def apply_raise(self):\n",
        "        self.pay = int(self.pay * self.raise_amount)\n",
        "\n",
        "    # Class method: functions applied to classes , changes the class variable\n",
        "    @classmethod\n",
        "    def set_raise_amt(cls, amount): #passes the cls\n",
        "        cls.raise_amount = amount\n",
        "\n",
        "    # Static Method :  Regular function , doesnot take cls or self\n",
        "    @staticmethod\n",
        "    def is_workday(day): # whether a day is weekday or not\n",
        "        if day.weekday() == 5 or day.weekday() == 6:\n",
        "            return False\n",
        "        return True\n",
        "\n",
        "\n"
      ],
      "metadata": {
        "id": "IBVve9nsBP4q"
      },
      "execution_count": 95,
      "outputs": []
    },
    {
      "cell_type": "code",
      "source": [
        "# change the first name doesnot change the email since the email happens in __init__\n",
        "emp_1.first = 'JIM'\n",
        "print(emp_1.first)\n",
        "\n",
        "print(emp_1.email)\n",
        "print(emp_1.fullname())"
      ],
      "metadata": {
        "colab": {
          "base_uri": "https://localhost:8080/"
        },
        "id": "0wNs7mu59sM1",
        "outputId": "7487bc22-b786-4d35-afb1-8889cc35d14a"
      },
      "execution_count": 97,
      "outputs": [
        {
          "output_type": "stream",
          "name": "stdout",
          "text": [
            "JIM\n",
            "JIM.Schafer@company.com\n",
            "JIM Schafer\n"
          ]
        }
      ]
    },
    {
      "cell_type": "code",
      "source": [],
      "metadata": {
        "id": "VB3YRQ9Y-ucp"
      },
      "execution_count": null,
      "outputs": []
    }
  ]
}